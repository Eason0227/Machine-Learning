{
 "cells": [
  {
   "cell_type": "code",
   "execution_count": 20,
   "metadata": {},
   "outputs": [],
   "source": [
    "import numpy as np\n",
    "import pandas as pd\n",
    "import random \n",
    "from sklearn.model_selection import train_test_split,KFold\n",
    "from sklearn.tree import DecisionTreeClassifier\n",
    "from sklearn.decomposition import PCA\n",
    "from sklearn import datasets\n",
    "from sklearn.metrics import accuracy_score\n",
    "from sklearn.ensemble import RandomForestClassifier"
   ]
  },
  {
   "cell_type": "code",
   "execution_count": 3,
   "metadata": {},
   "outputs": [],
   "source": [
    "def get_random_subset(iterable,k):\n",
    "    subsets = [] #存放\n",
    "    iteration = 0\n",
    "    np.random.shuffle(iterable)\n",
    "    subset = 0\n",
    "    limit = len(iterable)/k #分成多組具有k個特徵的特徵子集\n",
    "    while iteration < limit:\n",
    "        if k <= len(iterable):\n",
    "            subset = k\n",
    "        else:\n",
    "            subset = len(iterable)\n",
    "        subsets.append(iterable[-subset:])\n",
    "        del iterable[-subset:]\n",
    "        iteration+=1\n",
    "    return subsets"
   ]
  },
  {
   "cell_type": "code",
   "execution_count": 4,
   "metadata": {},
   "outputs": [],
   "source": [
    "def rotation_forest(X,Y,n_tree,k,max_depth):\n",
    "    r_matrices = []\n",
    "    models = []\n",
    "    for tree in range(n_tree):\n",
    "        x,_,_,_ = train_test_split(X,Y,test_size=0.25) #保留75%的資料\n",
    "        feature_index = list(range(X.shape[1]))\n",
    "        k_subset = get_random_subset(feature_index,k) #每個子集有k個特徵，每個子集特徵不重複\n",
    "        rotation_matrix = np.zeros((X.shape[1],X.shape[1]),dtype=float) #建立n*n大小的矩陣，n為樣本數\n",
    "        for each_subset in k_subset:\n",
    "            pca = PCA()\n",
    "            X_subset = x.iloc[:,each_subset]\n",
    "            pca.fit(X_subset)\n",
    "            for i in range(0,len(pca.components_)):\n",
    "                for j in range(0,len(pca.components_)):\n",
    "                    rotation_matrix[each_subset[i],each_subset[j]] = pca.components_[i,j]\n",
    "\n",
    "        x_transformed = X.dot(rotation_matrix)\n",
    "        model = DecisionTreeClassifier(max_depth = max_depth)\n",
    "        model.fit(x_transformed,Y) \n",
    "        models.append(model) #存放每個樹的模型\n",
    "        r_matrices.append(rotation_matrix) #存放每個樹的旋轉矩陣\n",
    "\n",
    "    return models,r_matrices"
   ]
  },
  {
   "cell_type": "code",
   "execution_count": 5,
   "metadata": {},
   "outputs": [],
   "source": [
    "def model_predict(models,r_matrices,x):\n",
    "    predicted_ys = []\n",
    "    for i,model in enumerate(models):\n",
    "        x_mod =  x.dot(r_matrices[i])\n",
    "        predicted_y = model.predict(x_mod) #每個樹的預測值\n",
    "        predicted_ys.append(predicted_y) #存放所有樹的預測值\n",
    "    \n",
    "    predicted_matrix = np.asmatrix(predicted_ys)\n",
    "    prediction = pd.DataFrame(predicted_matrix).T\n",
    "    final_prediction = []\n",
    "\n",
    "    for i in range(len(x)):\n",
    "        outcomes = list( prediction.iloc[i,:].values )\n",
    "        vote_result = max(set(outcomes), key=outcomes.count) \n",
    "        final_prediction.append(vote_result)\n",
    "    return final_prediction"
   ]
  },
  {
   "cell_type": "code",
   "execution_count": 21,
   "metadata": {},
   "outputs": [],
   "source": [
    "iris = datasets.load_iris()\n",
    "df = pd.DataFrame(iris.data, columns=iris.feature_names)\n",
    "df['label'] = iris.target\n",
    "df['label'] = df['label'].astype(int)\n",
    "X = df.drop(['label'],axis=1)\n",
    "Y = df['label']"
   ]
  },
  {
   "cell_type": "code",
   "execution_count": 28,
   "metadata": {},
   "outputs": [
    {
     "name": "stdout",
     "output_type": "stream",
     "text": [
      "fold 1\n",
      "fold 2\n",
      "fold 3\n",
      "fold 4\n",
      "fold 5\n",
      "Random forest 5-fold average accuracy 0.9533333333333334\n",
      "Rotation forest 5-fold average accuracy 0.9666666666666668\n"
     ]
    }
   ],
   "source": [
    "kf = KFold(n_splits=5, shuffle=True, random_state=10)\n",
    "cnt = 1\n",
    "rf_accuracy_set ,rotf_accuracy_set= [],[]\n",
    "for train_index, valid_index in kf.split(X, Y):\n",
    "    print('fold',cnt)\n",
    "    train_x = X.iloc[train_index,:]\n",
    "    train_y = df.iloc[train_index,:]['label']\n",
    "    valid_x = X.iloc[valid_index,:]\n",
    "    valid_y = df.iloc[valid_index,:]['label']\n",
    "\n",
    "    model,r_matrice = rotation_forest(X = train_x ,Y = train_y,n_tree=100,k=3,max_depth=10)\n",
    "    rot_pred = model_predict(model,r_matrice,valid_x)\n",
    "    rotf_accuracy_set.append(accuracy_score(valid_y,rot_pred))\n",
    "\n",
    "    rf = RandomForestClassifier(max_depth = 10 ,n_estimators= 100)\n",
    "    rf.fit(train_x,train_y)\n",
    "    rf_pred = rf.predict(valid_x)\n",
    "    rf_accuracy_set.append(accuracy_score(valid_y,rf_pred))\n",
    "    cnt += 1\n",
    "    \n",
    "print(\"Random forest 5-fold average accuracy\" , np.mean(rf_accuracy_set) )\n",
    "print(\"Rotation forest 5-fold average accuracy\" , np.mean(rotf_accuracy_set) )"
   ]
  }
 ],
 "metadata": {
  "kernelspec": {
   "display_name": "Python 3.9.7 ('base')",
   "language": "python",
   "name": "python3"
  },
  "language_info": {
   "codemirror_mode": {
    "name": "ipython",
    "version": 3
   },
   "file_extension": ".py",
   "mimetype": "text/x-python",
   "name": "python",
   "nbconvert_exporter": "python",
   "pygments_lexer": "ipython3",
   "version": "3.9.7"
  },
  "orig_nbformat": 4,
  "vscode": {
   "interpreter": {
    "hash": "1db13ed87bb8965e4f3a2d3f13e8dfe37cf8727ab6c757d84791f40d0f5929ff"
   }
  }
 },
 "nbformat": 4,
 "nbformat_minor": 2
}
